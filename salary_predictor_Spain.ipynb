{
  "nbformat": 4,
  "nbformat_minor": 0,
  "metadata": {
    "colab": {
      "name": "salary_predictor_Spain",
      "provenance": [],
      "authorship_tag": "ABX9TyOpCAy1zzVjwXZHUrUfun4i",
      "include_colab_link": true
    },
    "kernelspec": {
      "name": "python3",
      "display_name": "Python 3"
    },
    "language_info": {
      "name": "python"
    }
  },
  "cells": [
    {
      "cell_type": "markdown",
      "metadata": {
        "id": "view-in-github",
        "colab_type": "text"
      },
      "source": [
        "<a href=\"https://colab.research.google.com/github/carloshvp/salary-predictor/blob/main/salary_predictor_Spain.ipynb\" target=\"_parent\"><img src=\"https://colab.research.google.com/assets/colab-badge.svg\" alt=\"Open In Colab\"/></a>"
      ]
    },
    {
      "cell_type": "code",
      "metadata": {
        "id": "Fguu2qEwgY7w"
      },
      "source": [
        "BLABLA test"
      ],
      "execution_count": null,
      "outputs": []
    }
  ]
}